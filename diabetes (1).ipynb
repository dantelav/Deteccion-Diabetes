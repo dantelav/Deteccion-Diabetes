{
 "cells": [
  {
   "cell_type": "markdown",
   "id": "7c439e13",
   "metadata": {},
   "source": [
    "Unnamed: 0: Esta columna parece ser un índice o identificador único para cada entrada en el dataframe. No se espera que tenga un rango específico, ya que solo es un identificador.\n",
    "\n",
    "gender: Esta variable representa el género del paciente. Generalmente, se utiliza la codificación binaria, donde 0 puede representar el género masculino y 1 el género femenino. No hay un rango específico para esta variable, ya que es una categoría nominal.\n",
    "\n",
    "hypertension: Esta variable indica si el paciente tiene hipertensión o no. Se utiliza una codificación binaria, donde 0 representa \"no\" y 1 representa \"sí\". No hay un rango específico para esta variable, ya que es una categoría nominal.\n",
    "\n",
    "heart_disease: Esta variable indica si el paciente tiene enfermedad cardíaca o no. Al igual que las variables anteriores, se utiliza una codificación binaria (0 para \"no\" y 1 para \"sí\"). No hay un rango específico para esta variable.\n",
    "\n",
    "bmi: Esta variable representa el índice de masa corporal del paciente. El índice de masa corporal es una medida numérica que se calcula dividiendo el peso del paciente en kilogramos por el cuadrado de su altura en metros. Un rango típico para el índice de masa corporal es de 18.5 a 24.9, considerado como un peso normal. Valores por encima o por debajo de este rango pueden indicar bajo peso o sobrepeso.\n",
    "\n",
    "diabetes: Esta variable indica si el paciente tiene diabetes o no. Al igual que las variables anteriores, se utiliza una codificación binaria (0 para \"no\" y 1 para \"sí\"). No hay un rango específico para esta variable.\n",
    "\n",
    "Age: Esta variable representa la edad del paciente. Se espera que los valores estén en un rango numérico, por ejemplo, de 0 a 120 años, dependiendo del contexto de los datos.\n",
    "\n",
    "Blood_glucose_level: Esta variable indica el nivel de glucosa en sangre del paciente. Los niveles de glucosa en sangre se miden en miligramos por decilitro (mg/dL). Los valores normales de glucosa en ayunas varían según las pautas médicas, pero generalmente se consideran entre 70 y 99 mg/dL.\n",
    "\n",
    "HBA1c_level: Esta variable indica el nivel de hemoglobina glucosilada (HbA1c) en sangre del paciente. El nivel de HbA1c se mide en porcentaje y refleja los niveles promedio de glucosa en sangre durante los últimos tres meses. Un nivel normal de HbA1c suele estar por debajo del 5.7%.\n",
    "\n",
    "Smoking_History: Esta variable indica el historial de tabaquismo del paciente. Puede codificarse como una variable binaria (0 para \"no fumador\" y 1 para \"fumador\") o tener categorías adicionales para indicar diferentes niveles de consumo de tabaco. No hay un rango específico para esta variable, ya que es una categoría nominal."
   ]
  },
  {
   "cell_type": "code",
   "execution_count": 1,
   "id": "23e861ee",
   "metadata": {},
   "outputs": [],
   "source": [
    "import pandas as pd \n",
    "df = pd.read_csv(r\"C:\\Users\\Rana\\Desktop\\Flor\\df_diabetes_f.csv\", sep=\",\") \n",
    "df_original=df.copy()"
   ]
  },
  {
   "cell_type": "code",
   "execution_count": 2,
   "id": "a819c7b0",
   "metadata": {},
   "outputs": [
    {
     "data": {
      "text/html": [
       "<div>\n",
       "<style scoped>\n",
       "    .dataframe tbody tr th:only-of-type {\n",
       "        vertical-align: middle;\n",
       "    }\n",
       "\n",
       "    .dataframe tbody tr th {\n",
       "        vertical-align: top;\n",
       "    }\n",
       "\n",
       "    .dataframe thead th {\n",
       "        text-align: right;\n",
       "    }\n",
       "</style>\n",
       "<table border=\"1\" class=\"dataframe\">\n",
       "  <thead>\n",
       "    <tr style=\"text-align: right;\">\n",
       "      <th></th>\n",
       "      <th>Unnamed: 0</th>\n",
       "      <th>gender</th>\n",
       "      <th>hypertension</th>\n",
       "      <th>heart_disease</th>\n",
       "      <th>bmi</th>\n",
       "      <th>diabetes</th>\n",
       "      <th>Age</th>\n",
       "      <th>Blood_glucose_level</th>\n",
       "      <th>HBA1c_level</th>\n",
       "      <th>Smoking_History</th>\n",
       "    </tr>\n",
       "  </thead>\n",
       "  <tbody>\n",
       "    <tr>\n",
       "      <th>0</th>\n",
       "      <td>0</td>\n",
       "      <td>Female</td>\n",
       "      <td>0</td>\n",
       "      <td>1</td>\n",
       "      <td>25.19</td>\n",
       "      <td>0</td>\n",
       "      <td>80.0</td>\n",
       "      <td>140.0</td>\n",
       "      <td>NaN</td>\n",
       "      <td>never</td>\n",
       "    </tr>\n",
       "    <tr>\n",
       "      <th>1</th>\n",
       "      <td>1</td>\n",
       "      <td>Female</td>\n",
       "      <td>0</td>\n",
       "      <td>0</td>\n",
       "      <td>27.32</td>\n",
       "      <td>0</td>\n",
       "      <td>54.0</td>\n",
       "      <td>80.0</td>\n",
       "      <td>6.6</td>\n",
       "      <td>NaN</td>\n",
       "    </tr>\n",
       "    <tr>\n",
       "      <th>2</th>\n",
       "      <td>2</td>\n",
       "      <td>Male</td>\n",
       "      <td>0</td>\n",
       "      <td>0</td>\n",
       "      <td>27.32</td>\n",
       "      <td>0</td>\n",
       "      <td>28.0</td>\n",
       "      <td>158.0</td>\n",
       "      <td>NaN</td>\n",
       "      <td>never</td>\n",
       "    </tr>\n",
       "    <tr>\n",
       "      <th>3</th>\n",
       "      <td>3</td>\n",
       "      <td>Female</td>\n",
       "      <td>0</td>\n",
       "      <td>0</td>\n",
       "      <td>23.45</td>\n",
       "      <td>0</td>\n",
       "      <td>36.0</td>\n",
       "      <td>155.0</td>\n",
       "      <td>5.0</td>\n",
       "      <td>current</td>\n",
       "    </tr>\n",
       "    <tr>\n",
       "      <th>4</th>\n",
       "      <td>4</td>\n",
       "      <td>Male</td>\n",
       "      <td>1</td>\n",
       "      <td>1</td>\n",
       "      <td>20.14</td>\n",
       "      <td>0</td>\n",
       "      <td>76.0</td>\n",
       "      <td>155.0</td>\n",
       "      <td>4.8</td>\n",
       "      <td>current</td>\n",
       "    </tr>\n",
       "  </tbody>\n",
       "</table>\n",
       "</div>"
      ],
      "text/plain": [
       "   Unnamed: 0  gender  hypertension  heart_disease    bmi  diabetes   Age  \\\n",
       "0           0  Female             0              1  25.19         0  80.0   \n",
       "1           1  Female             0              0  27.32         0  54.0   \n",
       "2           2    Male             0              0  27.32         0  28.0   \n",
       "3           3  Female             0              0  23.45         0  36.0   \n",
       "4           4    Male             1              1  20.14         0  76.0   \n",
       "\n",
       "   Blood_glucose_level  HBA1c_level Smoking_History  \n",
       "0                140.0          NaN           never  \n",
       "1                 80.0          6.6             NaN  \n",
       "2                158.0          NaN           never  \n",
       "3                155.0          5.0         current  \n",
       "4                155.0          4.8         current  "
      ]
     },
     "execution_count": 2,
     "metadata": {},
     "output_type": "execute_result"
    }
   ],
   "source": [
    "df_original.head()"
   ]
  },
  {
   "cell_type": "code",
   "execution_count": 10,
   "id": "a049f7bd",
   "metadata": {},
   "outputs": [
    {
     "data": {
      "text/html": [
       "<div>\n",
       "<style scoped>\n",
       "    .dataframe tbody tr th:only-of-type {\n",
       "        vertical-align: middle;\n",
       "    }\n",
       "\n",
       "    .dataframe tbody tr th {\n",
       "        vertical-align: top;\n",
       "    }\n",
       "\n",
       "    .dataframe thead th {\n",
       "        text-align: right;\n",
       "    }\n",
       "</style>\n",
       "<table border=\"1\" class=\"dataframe\">\n",
       "  <thead>\n",
       "    <tr style=\"text-align: right;\">\n",
       "      <th></th>\n",
       "      <th>gender</th>\n",
       "      <th>hypertension</th>\n",
       "      <th>heart_disease</th>\n",
       "      <th>bmi</th>\n",
       "      <th>diabetes</th>\n",
       "      <th>Age</th>\n",
       "      <th>Blood_glucose_level</th>\n",
       "      <th>HBA1c_level</th>\n",
       "      <th>Smoking_History</th>\n",
       "    </tr>\n",
       "  </thead>\n",
       "  <tbody>\n",
       "    <tr>\n",
       "      <th>0</th>\n",
       "      <td>0.0</td>\n",
       "      <td>0</td>\n",
       "      <td>1</td>\n",
       "      <td>25.19</td>\n",
       "      <td>0</td>\n",
       "      <td>80.0</td>\n",
       "      <td>140.0</td>\n",
       "      <td>5.8</td>\n",
       "      <td>0</td>\n",
       "    </tr>\n",
       "    <tr>\n",
       "      <th>1</th>\n",
       "      <td>0.0</td>\n",
       "      <td>0</td>\n",
       "      <td>0</td>\n",
       "      <td>27.32</td>\n",
       "      <td>0</td>\n",
       "      <td>54.0</td>\n",
       "      <td>80.0</td>\n",
       "      <td>6.6</td>\n",
       "      <td>5</td>\n",
       "    </tr>\n",
       "    <tr>\n",
       "      <th>2</th>\n",
       "      <td>1.0</td>\n",
       "      <td>0</td>\n",
       "      <td>0</td>\n",
       "      <td>27.32</td>\n",
       "      <td>0</td>\n",
       "      <td>28.0</td>\n",
       "      <td>158.0</td>\n",
       "      <td>5.8</td>\n",
       "      <td>0</td>\n",
       "    </tr>\n",
       "    <tr>\n",
       "      <th>3</th>\n",
       "      <td>0.0</td>\n",
       "      <td>0</td>\n",
       "      <td>0</td>\n",
       "      <td>23.45</td>\n",
       "      <td>0</td>\n",
       "      <td>36.0</td>\n",
       "      <td>155.0</td>\n",
       "      <td>5.0</td>\n",
       "      <td>1</td>\n",
       "    </tr>\n",
       "    <tr>\n",
       "      <th>4</th>\n",
       "      <td>1.0</td>\n",
       "      <td>1</td>\n",
       "      <td>1</td>\n",
       "      <td>20.14</td>\n",
       "      <td>0</td>\n",
       "      <td>76.0</td>\n",
       "      <td>155.0</td>\n",
       "      <td>4.8</td>\n",
       "      <td>1</td>\n",
       "    </tr>\n",
       "  </tbody>\n",
       "</table>\n",
       "</div>"
      ],
      "text/plain": [
       "   gender  hypertension  heart_disease    bmi  diabetes   Age  \\\n",
       "0     0.0             0              1  25.19         0  80.0   \n",
       "1     0.0             0              0  27.32         0  54.0   \n",
       "2     1.0             0              0  27.32         0  28.0   \n",
       "3     0.0             0              0  23.45         0  36.0   \n",
       "4     1.0             1              1  20.14         0  76.0   \n",
       "\n",
       "   Blood_glucose_level  HBA1c_level  Smoking_History  \n",
       "0                140.0          5.8                0  \n",
       "1                 80.0          6.6                5  \n",
       "2                158.0          5.8                0  \n",
       "3                155.0          5.0                1  \n",
       "4                155.0          4.8                1  "
      ]
     },
     "execution_count": 10,
     "metadata": {},
     "output_type": "execute_result"
    }
   ],
   "source": [
    "df.head()"
   ]
  },
  {
   "cell_type": "code",
   "execution_count": 34,
   "id": "4bfa2a48",
   "metadata": {},
   "outputs": [
    {
     "name": "stdout",
     "output_type": "stream",
     "text": [
      "<class 'pandas.core.frame.DataFrame'>\n",
      "Int64Index: 81495 entries, 0 to 99999\n",
      "Data columns (total 9 columns):\n",
      " #   Column               Non-Null Count  Dtype  \n",
      "---  ------               --------------  -----  \n",
      " 0   gender               81495 non-null  float64\n",
      " 1   hypertension         81495 non-null  int32  \n",
      " 2   heart_disease        81495 non-null  int32  \n",
      " 3   bmi                  81495 non-null  float64\n",
      " 4   diabetes             81495 non-null  int32  \n",
      " 5   Age                  81495 non-null  float64\n",
      " 6   Blood_glucose_level  81495 non-null  float64\n",
      " 7   HBA1c_level          81495 non-null  float64\n",
      " 8   Smoking_History      81495 non-null  int64  \n",
      "dtypes: float64(5), int32(3), int64(1)\n",
      "memory usage: 5.3 MB\n"
     ]
    }
   ],
   "source": [
    "df.info()"
   ]
  },
  {
   "cell_type": "code",
   "execution_count": 8,
   "id": "d793d17a",
   "metadata": {},
   "outputs": [
    {
     "data": {
      "text/plain": [
       "gender                 0\n",
       "hypertension           0\n",
       "heart_disease          0\n",
       "bmi                    0\n",
       "diabetes               0\n",
       "Age                    0\n",
       "Blood_glucose_level    0\n",
       "HBA1c_level            0\n",
       "Smoking_History        0\n",
       "dtype: int64"
      ]
     },
     "execution_count": 8,
     "metadata": {},
     "output_type": "execute_result"
    }
   ],
   "source": [
    "df.isnull().sum()"
   ]
  },
  {
   "cell_type": "code",
   "execution_count": 6,
   "id": "69e07a51",
   "metadata": {},
   "outputs": [
    {
     "data": {
      "text/html": [
       "<div>\n",
       "<style scoped>\n",
       "    .dataframe tbody tr th:only-of-type {\n",
       "        vertical-align: middle;\n",
       "    }\n",
       "\n",
       "    .dataframe tbody tr th {\n",
       "        vertical-align: top;\n",
       "    }\n",
       "\n",
       "    .dataframe thead th {\n",
       "        text-align: right;\n",
       "    }\n",
       "</style>\n",
       "<table border=\"1\" class=\"dataframe\">\n",
       "  <thead>\n",
       "    <tr style=\"text-align: right;\">\n",
       "      <th></th>\n",
       "      <th>Unnamed: 0</th>\n",
       "      <th>hypertension</th>\n",
       "      <th>heart_disease</th>\n",
       "      <th>bmi</th>\n",
       "      <th>diabetes</th>\n",
       "      <th>Age</th>\n",
       "      <th>Blood_glucose_level</th>\n",
       "      <th>HBA1c_level</th>\n",
       "    </tr>\n",
       "  </thead>\n",
       "  <tbody>\n",
       "    <tr>\n",
       "      <th>count</th>\n",
       "      <td>100000.000000</td>\n",
       "      <td>100000.00000</td>\n",
       "      <td>100000.000000</td>\n",
       "      <td>100000.000000</td>\n",
       "      <td>100000.000000</td>\n",
       "      <td>92993.000000</td>\n",
       "      <td>94987.000000</td>\n",
       "      <td>80250.000000</td>\n",
       "    </tr>\n",
       "    <tr>\n",
       "      <th>mean</th>\n",
       "      <td>49999.500000</td>\n",
       "      <td>0.07485</td>\n",
       "      <td>0.039420</td>\n",
       "      <td>27.320767</td>\n",
       "      <td>0.085000</td>\n",
       "      <td>41.880613</td>\n",
       "      <td>138.075768</td>\n",
       "      <td>5.526436</td>\n",
       "    </tr>\n",
       "    <tr>\n",
       "      <th>std</th>\n",
       "      <td>28867.657797</td>\n",
       "      <td>0.26315</td>\n",
       "      <td>0.194593</td>\n",
       "      <td>6.636783</td>\n",
       "      <td>0.278883</td>\n",
       "      <td>22.525532</td>\n",
       "      <td>40.739340</td>\n",
       "      <td>1.069835</td>\n",
       "    </tr>\n",
       "    <tr>\n",
       "      <th>min</th>\n",
       "      <td>0.000000</td>\n",
       "      <td>0.00000</td>\n",
       "      <td>0.000000</td>\n",
       "      <td>10.010000</td>\n",
       "      <td>0.000000</td>\n",
       "      <td>0.080000</td>\n",
       "      <td>80.000000</td>\n",
       "      <td>3.500000</td>\n",
       "    </tr>\n",
       "    <tr>\n",
       "      <th>25%</th>\n",
       "      <td>24999.750000</td>\n",
       "      <td>0.00000</td>\n",
       "      <td>0.000000</td>\n",
       "      <td>23.630000</td>\n",
       "      <td>0.000000</td>\n",
       "      <td>24.000000</td>\n",
       "      <td>100.000000</td>\n",
       "      <td>4.800000</td>\n",
       "    </tr>\n",
       "    <tr>\n",
       "      <th>50%</th>\n",
       "      <td>49999.500000</td>\n",
       "      <td>0.00000</td>\n",
       "      <td>0.000000</td>\n",
       "      <td>27.320000</td>\n",
       "      <td>0.000000</td>\n",
       "      <td>43.000000</td>\n",
       "      <td>140.000000</td>\n",
       "      <td>5.800000</td>\n",
       "    </tr>\n",
       "    <tr>\n",
       "      <th>75%</th>\n",
       "      <td>74999.250000</td>\n",
       "      <td>0.00000</td>\n",
       "      <td>0.000000</td>\n",
       "      <td>29.580000</td>\n",
       "      <td>0.000000</td>\n",
       "      <td>60.000000</td>\n",
       "      <td>159.000000</td>\n",
       "      <td>6.200000</td>\n",
       "    </tr>\n",
       "    <tr>\n",
       "      <th>max</th>\n",
       "      <td>99999.000000</td>\n",
       "      <td>1.00000</td>\n",
       "      <td>1.000000</td>\n",
       "      <td>95.690000</td>\n",
       "      <td>1.000000</td>\n",
       "      <td>80.000000</td>\n",
       "      <td>300.000000</td>\n",
       "      <td>9.000000</td>\n",
       "    </tr>\n",
       "  </tbody>\n",
       "</table>\n",
       "</div>"
      ],
      "text/plain": [
       "          Unnamed: 0  hypertension  heart_disease            bmi  \\\n",
       "count  100000.000000  100000.00000  100000.000000  100000.000000   \n",
       "mean    49999.500000       0.07485       0.039420      27.320767   \n",
       "std     28867.657797       0.26315       0.194593       6.636783   \n",
       "min         0.000000       0.00000       0.000000      10.010000   \n",
       "25%     24999.750000       0.00000       0.000000      23.630000   \n",
       "50%     49999.500000       0.00000       0.000000      27.320000   \n",
       "75%     74999.250000       0.00000       0.000000      29.580000   \n",
       "max     99999.000000       1.00000       1.000000      95.690000   \n",
       "\n",
       "            diabetes           Age  Blood_glucose_level   HBA1c_level  \n",
       "count  100000.000000  92993.000000         94987.000000  80250.000000  \n",
       "mean        0.085000     41.880613           138.075768      5.526436  \n",
       "std         0.278883     22.525532            40.739340      1.069835  \n",
       "min         0.000000      0.080000            80.000000      3.500000  \n",
       "25%         0.000000     24.000000           100.000000      4.800000  \n",
       "50%         0.000000     43.000000           140.000000      5.800000  \n",
       "75%         0.000000     60.000000           159.000000      6.200000  \n",
       "max         1.000000     80.000000           300.000000      9.000000  "
      ]
     },
     "execution_count": 6,
     "metadata": {},
     "output_type": "execute_result"
    }
   ],
   "source": [
    "df.describe()"
   ]
  },
  {
   "cell_type": "markdown",
   "id": "e5e6a1ed",
   "metadata": {},
   "source": [
    "CODIGO YA EJECUTADO PARA EXPLORACION Y LIMPIEZA"
   ]
  },
  {
   "cell_type": "code",
   "execution_count": 7,
   "id": "23c55d32",
   "metadata": {},
   "outputs": [],
   "source": [
    "#ELIMINAMOS DUPLICADOS\n",
    "dupli = df.duplicated().sum()\n",
    "df.drop_duplicates(inplace=True)\n",
    "\n",
    "#Eliminamos todos los menores de 13 años\n",
    "df = df[df['Age'] >= 13]\n",
    "\n",
    "\n",
    "#borramos indice, y pasamos categoricas a object para analisis.\n",
    "df = df.drop('Unnamed: 0', axis=1)\n",
    "df['hypertension'] = df['hypertension'].astype('object')\n",
    "df['heart_disease'] = df['heart_disease'].astype('object')\n",
    "df['diabetes'] = df['diabetes'].astype('object')\n",
    "\n",
    "\n",
    "\n",
    "#IMPUTAMOS LA MEDIANA EN LOS NULOS DE LAS NUMERICAS\n",
    "import numpy as np\n",
    "median_hba1c = df['HBA1c_level'].median()\n",
    "df['HBA1c_level'] = df['HBA1c_level'].fillna(median_hba1c)\n",
    "median_GLU = df['Blood_glucose_level'].median()\n",
    "df['Blood_glucose_level'] = df['Blood_glucose_level'].fillna(median_GLU)\n",
    "median_age = df['Age'].median()\n",
    "df['Age'] = df['Age'].fillna(median_age)\n",
    "\n",
    "\n",
    "#ASIGNACION DE PERCENTIL 95 a OUTLIERS\n",
    "q3=159.000000\n",
    "RI=q3-100.000000\n",
    "per95= df['Blood_glucose_level'].quantile(0.95)\n",
    "df.loc[df['Blood_glucose_level'] >q3+1.5*RI , 'Blood_glucose_level'] = per95\n",
    "\n",
    "q3=6.200000\n",
    "RI=q3-4.800000\n",
    "per95= df['HBA1c_level'].quantile(0.95)\n",
    "df.loc[df['HBA1c_level'] >q3+1.5*RI , 'HBA1c_level'] = per95\n",
    "\n",
    "q3=29.580000\n",
    "RI=q3-23.630000\n",
    "per95= df['bmi'].quantile(0.95)\n",
    "df.loc[df['bmi'] >q3+1.5*RI , 'bmi'] = per95\n",
    "\n",
    "q1=23.630000\n",
    "RI=29.580000-q1\n",
    "per05= df['bmi'].quantile(0.05)\n",
    "df.loc[df['bmi'] <q1-1.5*RI , 'bmi'] = per05\n",
    "\n",
    "#imputamos nulos de categorica smoke\n",
    "df['Smoking_History'] = df['Smoking_History'].fillna('desconocido')\n",
    "\n",
    "# Convertir 'Smoking_History' a tipo numérico asignando un número a cada categoría\n",
    "smoking_mapping = {'never': 0, 'current': 1, 'former': 2, 'not current': 3, \"ever\":4, \"desconocido\":5}\n",
    "df['Smoking_History'] = df['Smoking_History'].map(smoking_mapping)\n",
    "\n",
    "\n",
    "# Convertir 'diabetes' a tipo numérico (asumiendo que es binaria)\n",
    "df['diabetes'] = df['diabetes'].astype(int)\n",
    "\n",
    "# Convertir 'heart_disease' a tipo numérico (asumiendo que es binaria)\n",
    "df['heart_disease'] = df['heart_disease'].astype(int)\n",
    "\n",
    "# Convertir 'hypertension' a tipo numérico (asumiendo que es binaria)\n",
    "df['hypertension'] = df['hypertension'].astype(int)\n",
    "\n",
    "# Convertir 'gender' a tipo numérico ('Female' a 0, 'Male' a 1)\n",
    "gender_mapping = {'Female': 0, 'Male': 1}\n",
    "df['gender'] = df['gender'].map(gender_mapping)\n",
    "\n",
    "gender_mode = df[\"gender\"].mode()[0]\n",
    "df[\"gender\"] = df[\"gender\"].fillna(gender_mode)\n"
   ]
  },
  {
   "cell_type": "markdown",
   "id": "c05598ef",
   "metadata": {},
   "source": [
    "ANALISIS DE VARIABLES NUMERICAS "
   ]
  },
  {
   "cell_type": "code",
   "execution_count": null,
   "id": "4fbfc8c8",
   "metadata": {},
   "outputs": [],
   "source": [
    "import matplotlib.pyplot as plt\n",
    "\n",
    "numeric_columns = df.select_dtypes(include=['float64', 'int64']).columns\n",
    "fig, axes = plt.subplots(nrows=len(numeric_columns), figsize=(8, 3 * len(numeric_columns))) \n",
    "for i, column in enumerate(numeric_columns):\n",
    "    axes[i].boxplot(df[column], vert=True)\n",
    "    axes[i].set_xlabel(column)\n",
    "    axes[i].set_ylabel('')\n",
    "plt.tight_layout()\n",
    "plt.show()\n"
   ]
  },
  {
   "cell_type": "code",
   "execution_count": null,
   "id": "9ba5c4ec",
   "metadata": {},
   "outputs": [],
   "source": [
    "import matplotlib.pyplot as plt\n",
    "\n",
    "variables = ['Age', 'Blood_glucose_level', 'HBA1c_level']\n",
    "\n",
    "plt.figure(figsize=(8, 6))\n",
    "df_boxplot = df[variables]\n",
    "df_boxplot.boxplot()\n",
    "plt.title('Boxplot de variables')\n",
    "plt.ylabel('Valores')\n",
    "plt.show()\n"
   ]
  },
  {
   "cell_type": "code",
   "execution_count": null,
   "id": "1033ba81",
   "metadata": {},
   "outputs": [],
   "source": [
    "import matplotlib.pyplot as plt\n",
    "\n",
    "plt.figure(figsize=(8, 6))\n",
    "\n",
    "# Eliminar los valores faltantes en HBA1c_level\n",
    "data = df['HBA1c_level'].dropna()\n",
    "\n",
    "plt.boxplot(data)\n",
    "plt.title('Boxplot de HBA1c_level')\n",
    "plt.ylabel('HBA1c_level')\n",
    "\n",
    "plt.show()\n",
    "\n",
    "\n"
   ]
  },
  {
   "cell_type": "code",
   "execution_count": null,
   "id": "807e21c5",
   "metadata": {},
   "outputs": [],
   "source": []
  },
  {
   "cell_type": "code",
   "execution_count": null,
   "id": "f7b89168",
   "metadata": {},
   "outputs": [],
   "source": []
  },
  {
   "cell_type": "markdown",
   "id": "9813e361",
   "metadata": {},
   "source": [
    "ANALISIS DE VARIABLES CATEGORICAS"
   ]
  },
  {
   "cell_type": "code",
   "execution_count": null,
   "id": "70a31a3f",
   "metadata": {},
   "outputs": [],
   "source": [
    "import matplotlib.pyplot as plt\n",
    "\n",
    "categorical_columns = df.select_dtypes(include=['object', 'category']).columns\n",
    "for column in categorical_columns:\n",
    "    freq_table = df[column].value_counts()\n",
    "    plt.figure()\n",
    "    plt.bar(freq_table.index, freq_table.values)\n",
    "    plt.xlabel(column)\n",
    "    plt.ylabel('Frecuencia')\n",
    "    plt.title(f'Tabla de frecuencia: {column}')\n",
    "    plt.show()\n",
    "\n"
   ]
  },
  {
   "cell_type": "markdown",
   "id": "5b5cbb14",
   "metadata": {},
   "source": [
    "CODIGO YA EJECUTADO PARA SELECCION DE VARIABLES"
   ]
  },
  {
   "cell_type": "code",
   "execution_count": null,
   "id": "3105620b",
   "metadata": {},
   "outputs": [],
   "source": [
    "\n",
    "\n",
    "\n",
    "\n",
    "\n",
    "\n",
    "\n",
    "\n",
    "\n",
    "\n",
    "\n",
    "\n",
    "\n"
   ]
  },
  {
   "cell_type": "code",
   "execution_count": null,
   "id": "8649bf2b",
   "metadata": {},
   "outputs": [],
   "source": []
  },
  {
   "cell_type": "code",
   "execution_count": null,
   "id": "045ae8fa",
   "metadata": {},
   "outputs": [],
   "source": []
  },
  {
   "cell_type": "code",
   "execution_count": null,
   "id": "8f436684",
   "metadata": {},
   "outputs": [],
   "source": []
  },
  {
   "cell_type": "markdown",
   "id": "05cdb711",
   "metadata": {},
   "source": [
    "SELECCION DE VARIABLES NUMERICAS "
   ]
  },
  {
   "cell_type": "code",
   "execution_count": 11,
   "id": "83b030c9",
   "metadata": {},
   "outputs": [
    {
     "data": {
      "image/png": "[encoded data removed]",
      "text/plain": [
       "<Figure size 500x300 with 1 Axes>"
      ]
     },
     "metadata": {},
     "output_type": "display_data"
    },
    {
     "data": {
      "image/png": "[encoded data removed]",
      "text/plain": [
       "<Figure size 500x300 with 1 Axes>"
      ]
     },
     "metadata": {},
     "output_type": "display_data"
    },
    {
     "data": {
      "image/png": "[encoded data removed]",
      "text/plain": [
       "<Figure size 500x300 with 1 Axes>"
      ]
     },
     "metadata": {},
     "output_type": "display_data"
    },
    {
     "data": {
      "image/png": "[encoded data removed]",
      "text/plain": [
       "<Figure size 500x300 with 1 Axes>"
      ]
     },
     "metadata": {},
     "output_type": "display_data"
    },
    {
     "data": {
      "image/png": "[encoded data removed]",
      "text/plain": [
       "<Figure size 500x300 with 1 Axes>"
      ]
     },
     "metadata": {},
     "output_type": "display_data"
    },
    {
     "data": {
      "image/png": "[encoded data removed]",
      "text/plain": [
       "<Figure size 500x300 with 1 Axes>"
      ]
     },
     "metadata": {},
     "output_type": "display_data"
    }
   ],
   "source": [
    "#BOXPLOTS COMPARATIVOS DE TODAS LAS VARIABLES NUMERICAS \n",
    "\n",
    "import seaborn as sns\n",
    "import matplotlib.pyplot as plt\n",
    "\n",
    "numeric_columns = df.select_dtypes(include=['float64', 'int64']).columns\n",
    "\n",
    "for column in numeric_columns:\n",
    "    fig, ax = plt.subplots(figsize=(5,3))\n",
    "    sns.boxplot(x='diabetes', y=column, data=df)\n",
    "    ax.set_xlabel('diabetes')\n",
    "    ax.set_ylabel(column)\n",
    "    ax.set_title(f'Distribución de {column} por diabetes')\n",
    "    ax.set_xticklabels(ax.get_xticklabels(), rotation=0)\n",
    "    ax.tick_params(labelsize=10)\n",
    "    plt.tight_layout()\n",
    "    plt.savefig(f'{column}_boxplot.png')\n",
    "    plt.show()"
   ]
  },
  {
   "cell_type": "code",
   "execution_count": null,
   "id": "72e4fb76",
   "metadata": {},
   "outputs": [],
   "source": [
    "#FEATURE IMPORTANCE MUESTRA IMPORTANCIA DE LAS VARIABLES NUMERICAS\n",
    "import pandas as pd\n",
    "from sklearn.ensemble import ExtraTreesClassifier\n",
    "\n",
    "numeric_columns = df.select_dtypes(include=['float64', 'int64']).columns\n",
    "X_numeric = df[numeric_columns]\n",
    "X = X_numeric\n",
    "y = df['diabetes']\n",
    "model = ExtraTreesClassifier()\n",
    "model.fit(X, y)\n",
    "importance_table = pd.DataFrame({'Variable': X.columns, 'Importancia': model.feature_importances_})\n",
    "print(importance_table)\n",
    "\n"
   ]
  },
  {
   "cell_type": "code",
   "execution_count": null,
   "id": "02f480f6",
   "metadata": {},
   "outputs": [],
   "source": []
  },
  {
   "cell_type": "code",
   "execution_count": null,
   "id": "9953eda8",
   "metadata": {},
   "outputs": [],
   "source": [
    "SELECCION DE VARIABLES CATEGORICAS"
   ]
  },
  {
   "cell_type": "code",
   "execution_count": null,
   "id": "50e39ce6",
   "metadata": {},
   "outputs": [],
   "source": [
    "import pandas as pd\n",
    "import scipy.stats as stats\n",
    "\n",
    "categorical_columns = df.select_dtypes(include=['object', 'category']).columns\n",
    "\n",
    "for column in categorical_columns:\n",
    "    crosstab_result = pd.crosstab(index=df[column], columns=df[\"diabetes\"])\n",
    "    chi2_stat, p_value, _, _ = stats.chi2_contingency(crosstab_result)\n",
    "    \n",
    "    if p_value < 0.05:\n",
    "        print(f\"La variable {column} SI está asociada de forma significativa con el objetivo (diabetes).\")\n",
    "    else:\n",
    "        print(f\"La variable {column} NO está asociada de forma significativa con el objetivo (diabetes).\")\n",
    "\n"
   ]
  },
  {
   "cell_type": "code",
   "execution_count": null,
   "id": "038f8bb2",
   "metadata": {},
   "outputs": [],
   "source": []
  },
  {
   "cell_type": "code",
   "execution_count": null,
   "id": "a46f66ce",
   "metadata": {},
   "outputs": [],
   "source": []
  },
  {
   "cell_type": "markdown",
   "id": "29840243",
   "metadata": {},
   "source": [
    "TRANSFORMACION DE VARIABLES "
   ]
  },
  {
   "cell_type": "code",
   "execution_count": 78,
   "id": "fb05525b",
   "metadata": {},
   "outputs": [
    {
     "data": {
      "text/html": [
       "<div>\n",
       "<style scoped>\n",
       "    .dataframe tbody tr th:only-of-type {\n",
       "        vertical-align: middle;\n",
       "    }\n",
       "\n",
       "    .dataframe tbody tr th {\n",
       "        vertical-align: top;\n",
       "    }\n",
       "\n",
       "    .dataframe thead th {\n",
       "        text-align: right;\n",
       "    }\n",
       "</style>\n",
       "<table border=\"1\" class=\"dataframe\">\n",
       "  <thead>\n",
       "    <tr style=\"text-align: right;\">\n",
       "      <th></th>\n",
       "      <th>gender</th>\n",
       "      <th>hypertension</th>\n",
       "      <th>heart_disease</th>\n",
       "      <th>bmi</th>\n",
       "      <th>diabetes</th>\n",
       "      <th>Age</th>\n",
       "      <th>Blood_glucose_level</th>\n",
       "      <th>HBA1c_level</th>\n",
       "      <th>Smoking_History</th>\n",
       "    </tr>\n",
       "  </thead>\n",
       "  <tbody>\n",
       "    <tr>\n",
       "      <th>0</th>\n",
       "      <td>-0.818356</td>\n",
       "      <td>0</td>\n",
       "      <td>1</td>\n",
       "      <td>-0.558611</td>\n",
       "      <td>0</td>\n",
       "      <td>1.723975</td>\n",
       "      <td>0.080825</td>\n",
       "      <td>0.252762</td>\n",
       "      <td>-1.023852</td>\n",
       "    </tr>\n",
       "    <tr>\n",
       "      <th>1</th>\n",
       "      <td>-0.818356</td>\n",
       "      <td>0</td>\n",
       "      <td>0</td>\n",
       "      <td>-0.153155</td>\n",
       "      <td>0</td>\n",
       "      <td>0.366541</td>\n",
       "      <td>-1.604968</td>\n",
       "      <td>1.136843</td>\n",
       "      <td>1.341086</td>\n",
       "    </tr>\n",
       "    <tr>\n",
       "      <th>2</th>\n",
       "      <td>1.221963</td>\n",
       "      <td>0</td>\n",
       "      <td>0</td>\n",
       "      <td>-0.153155</td>\n",
       "      <td>0</td>\n",
       "      <td>-0.990892</td>\n",
       "      <td>0.586564</td>\n",
       "      <td>0.252762</td>\n",
       "      <td>-1.023852</td>\n",
       "    </tr>\n",
       "    <tr>\n",
       "      <th>3</th>\n",
       "      <td>-0.818356</td>\n",
       "      <td>0</td>\n",
       "      <td>0</td>\n",
       "      <td>-0.889829</td>\n",
       "      <td>0</td>\n",
       "      <td>-0.573221</td>\n",
       "      <td>0.502274</td>\n",
       "      <td>-0.631319</td>\n",
       "      <td>-0.550864</td>\n",
       "    </tr>\n",
       "    <tr>\n",
       "      <th>4</th>\n",
       "      <td>1.221963</td>\n",
       "      <td>1</td>\n",
       "      <td>1</td>\n",
       "      <td>-1.519904</td>\n",
       "      <td>0</td>\n",
       "      <td>1.515139</td>\n",
       "      <td>0.502274</td>\n",
       "      <td>-0.852339</td>\n",
       "      <td>-0.550864</td>\n",
       "    </tr>\n",
       "    <tr>\n",
       "      <th>...</th>\n",
       "      <td>...</td>\n",
       "      <td>...</td>\n",
       "      <td>...</td>\n",
       "      <td>...</td>\n",
       "      <td>...</td>\n",
       "      <td>...</td>\n",
       "      <td>...</td>\n",
       "      <td>...</td>\n",
       "      <td>...</td>\n",
       "    </tr>\n",
       "    <tr>\n",
       "      <th>99994</th>\n",
       "      <td>-0.818356</td>\n",
       "      <td>0</td>\n",
       "      <td>0</td>\n",
       "      <td>-0.670921</td>\n",
       "      <td>0</td>\n",
       "      <td>-0.573221</td>\n",
       "      <td>0.221308</td>\n",
       "      <td>-0.852339</td>\n",
       "      <td>1.341086</td>\n",
       "    </tr>\n",
       "    <tr>\n",
       "      <th>99995</th>\n",
       "      <td>-0.818356</td>\n",
       "      <td>0</td>\n",
       "      <td>0</td>\n",
       "      <td>-0.153155</td>\n",
       "      <td>0</td>\n",
       "      <td>1.723975</td>\n",
       "      <td>-1.324003</td>\n",
       "      <td>0.694803</td>\n",
       "      <td>1.341086</td>\n",
       "    </tr>\n",
       "    <tr>\n",
       "      <th>99997</th>\n",
       "      <td>1.221963</td>\n",
       "      <td>0</td>\n",
       "      <td>0</td>\n",
       "      <td>-0.056074</td>\n",
       "      <td>0</td>\n",
       "      <td>0.993049</td>\n",
       "      <td>0.502274</td>\n",
       "      <td>0.142252</td>\n",
       "      <td>-0.077877</td>\n",
       "    </tr>\n",
       "    <tr>\n",
       "      <th>99998</th>\n",
       "      <td>-0.818356</td>\n",
       "      <td>0</td>\n",
       "      <td>0</td>\n",
       "      <td>1.388721</td>\n",
       "      <td>0</td>\n",
       "      <td>-1.199728</td>\n",
       "      <td>-1.043037</td>\n",
       "      <td>0.252762</td>\n",
       "      <td>-1.023852</td>\n",
       "    </tr>\n",
       "    <tr>\n",
       "      <th>99999</th>\n",
       "      <td>-0.818356</td>\n",
       "      <td>0</td>\n",
       "      <td>0</td>\n",
       "      <td>-1.083991</td>\n",
       "      <td>0</td>\n",
       "      <td>0.523168</td>\n",
       "      <td>-1.324003</td>\n",
       "      <td>1.136843</td>\n",
       "      <td>-0.550864</td>\n",
       "    </tr>\n",
       "  </tbody>\n",
       "</table>\n",
       "<p>81495 rows × 9 columns</p>\n",
       "</div>"
      ],
      "text/plain": [
       "         gender  hypertension  heart_disease       bmi  diabetes       Age  \\\n",
       "0     -0.818356             0              1 -0.558611         0  1.723975   \n",
       "1     -0.818356             0              0 -0.153155         0  0.366541   \n",
       "2      1.221963             0              0 -0.153155         0 -0.990892   \n",
       "3     -0.818356             0              0 -0.889829         0 -0.573221   \n",
       "4      1.221963             1              1 -1.519904         0  1.515139   \n",
       "...         ...           ...            ...       ...       ...       ...   \n",
       "99994 -0.818356             0              0 -0.670921         0 -0.573221   \n",
       "99995 -0.818356             0              0 -0.153155         0  1.723975   \n",
       "99997  1.221963             0              0 -0.056074         0  0.993049   \n",
       "99998 -0.818356             0              0  1.388721         0 -1.199728   \n",
       "99999 -0.818356             0              0 -1.083991         0  0.523168   \n",
       "\n",
       "       Blood_glucose_level  HBA1c_level  Smoking_History  \n",
       "0                 0.080825     0.252762        -1.023852  \n",
       "1                -1.604968     1.136843         1.341086  \n",
       "2                 0.586564     0.252762        -1.023852  \n",
       "3                 0.502274    -0.631319        -0.550864  \n",
       "4                 0.502274    -0.852339        -0.550864  \n",
       "...                    ...          ...              ...  \n",
       "99994             0.221308    -0.852339         1.341086  \n",
       "99995            -1.324003     0.694803         1.341086  \n",
       "99997             0.502274     0.142252        -0.077877  \n",
       "99998            -1.043037     0.252762        -1.023852  \n",
       "99999            -1.324003     1.136843        -0.550864  \n",
       "\n",
       "[81495 rows x 9 columns]"
      ]
     },
     "execution_count": 78,
     "metadata": {},
     "output_type": "execute_result"
    }
   ],
   "source": [
    "from sklearn.preprocessing import StandardScaler\n",
    "\n",
    "df_std = df.copy()\n",
    "\n",
    "numeric_columns = df_std.select_dtypes(include=['float64', 'int64']).columns\n",
    "scaler = StandardScaler()\n",
    "\n",
    "df_std[numeric_columns] = scaler.fit_transform(df_std[numeric_columns])\n",
    "\n",
    "df_std"
   ]
  },
  {
   "cell_type": "code",
   "execution_count": null,
   "id": "a3da954f",
   "metadata": {},
   "outputs": [],
   "source": []
  },
  {
   "cell_type": "code",
   "execution_count": null,
   "id": "06e9d321",
   "metadata": {},
   "outputs": [],
   "source": []
  },
  {
   "cell_type": "code",
   "execution_count": null,
   "id": "0994b855",
   "metadata": {},
   "outputs": [],
   "source": []
  },
  {
   "cell_type": "code",
   "execution_count": null,
   "id": "d075c68f",
   "metadata": {},
   "outputs": [],
   "source": []
  },
  {
   "cell_type": "code",
   "execution_count": null,
   "id": "e029c9da",
   "metadata": {},
   "outputs": [],
   "source": []
  },
  {
   "cell_type": "code",
   "execution_count": null,
   "id": "8a9ab3e5",
   "metadata": {},
   "outputs": [],
   "source": []
  },
  {
   "cell_type": "code",
   "execution_count": null,
   "id": "e86d4b46",
   "metadata": {},
   "outputs": [],
   "source": []
  },
  {
   "cell_type": "code",
   "execution_count": null,
   "id": "10d188be",
   "metadata": {},
   "outputs": [],
   "source": []
  },
  {
   "cell_type": "code",
   "execution_count": null,
   "id": "a1852b3a",
   "metadata": {},
   "outputs": [],
   "source": []
  },
  {
   "cell_type": "markdown",
   "id": "79e706a0",
   "metadata": {},
   "source": [
    "RESOLVER MULTICOLINEALIDAD. Si alguna de las variables supera los 5 puntos de VIF, es necesario pensar en eliminarla, y volver a calcular VIF."
   ]
  },
  {
   "cell_type": "code",
   "execution_count": null,
   "id": "f074f4e0",
   "metadata": {
    "scrolled": true
   },
   "outputs": [],
   "source": [
    "import pandas as pd\n",
    "import numpy as np\n",
    "from statsmodels.stats.outliers_influence import variance_inflation_factor\n",
    "\n",
    "X = df.drop(['diabetes'], axis=1)\n",
    "y = df['diabetes']\n",
    "X = sm.add_constant(X)\n",
    "\n",
    "vif = pd.DataFrame()\n",
    "vif[\"variables\"] = X.columns\n",
    "vif[\"VIF\"] = [variance_inflation_factor(X.values, i) for i in range(X.shape[1])]\n",
    "\n",
    "print(vif)\n",
    "\n"
   ]
  },
  {
   "cell_type": "code",
   "execution_count": 52,
   "id": "d0876f8a",
   "metadata": {},
   "outputs": [
    {
     "data": {
      "image/png": "[encoded data removed]",
      "text/plain": [
       "<Figure size 640x480 with 2 Axes>"
      ]
     },
     "metadata": {},
     "output_type": "display_data"
    }
   ],
   "source": [
    "corr_matrix = df.corr()\n",
    "import seaborn as sns\n",
    "sns.heatmap(corr_matrix, annot=True, cmap='coolwarm')\n",
    "plt.show()\n"
   ]
  },
  {
   "cell_type": "code",
   "execution_count": null,
   "id": "da04715b",
   "metadata": {},
   "outputs": [],
   "source": []
  },
  {
   "cell_type": "code",
   "execution_count": null,
   "id": "167ba2b0",
   "metadata": {},
   "outputs": [],
   "source": []
  },
  {
   "cell_type": "markdown",
   "id": "ff2a0c43",
   "metadata": {},
   "source": [
    "ENTRENAMIENTO DEL MODELO con train test"
   ]
  },
  {
   "cell_type": "code",
   "execution_count": 84,
   "id": "c4b9bb7a",
   "metadata": {},
   "outputs": [
    {
     "name": "stdout",
     "output_type": "stream",
     "text": [
      "0.9326380368098159\n"
     ]
    },
    {
     "name": "stderr",
     "output_type": "stream",
     "text": [
      "C:\\Users\\Rana\\Nueva carpeta\\lib\\site-packages\\sklearn\\linear_model\\_logistic.py:814: ConvergenceWarning: lbfgs failed to converge (status=1):\n",
      "STOP: TOTAL NO. of ITERATIONS REACHED LIMIT.\n",
      "\n",
      "Increase the number of iterations (max_iter) or scale the data as shown in:\n",
      "    https://scikit-learn.org/stable/modules/preprocessing.html\n",
      "Please also refer to the documentation for alternative solver options:\n",
      "    https://scikit-learn.org/stable/modules/linear_model.html#logistic-regression\n",
      "  n_iter_i = _check_optimize_result(\n"
     ]
    }
   ],
   "source": [
    "from sklearn.model_selection import train_test_split\n",
    "from sklearn.linear_model import LogisticRegression\n",
    "X = df.drop(['diabetes'], axis=1)\n",
    "y = df['diabetes']\n",
    "X_train, X_test, y_train, y_test = train_test_split(X, y, test_size=0.10, random_state=42)\n",
    "model = LogisticRegression()\n",
    "model.fit(X_train,y_train)\n",
    "result = model.score(X_test,y_test)\n",
    "print(result)\n"
   ]
  },
  {
   "cell_type": "markdown",
   "id": "547a377b",
   "metadata": {},
   "source": [
    "ENTRENAMIENTO DEL MODELO ESTANDARIZADO con train test"
   ]
  },
  {
   "cell_type": "code",
   "execution_count": 86,
   "id": "61d539c8",
   "metadata": {},
   "outputs": [
    {
     "name": "stdout",
     "output_type": "stream",
     "text": [
      "0.9375460122699386\n"
     ]
    }
   ],
   "source": [
    "from sklearn.model_selection import train_test_split\n",
    "from sklearn.linear_model import LogisticRegression\n",
    "X = df_std.drop(['diabetes'], axis=1)\n",
    "y = df_std['diabetes']\n",
    "X_train, X_test, y_train, y_test = train_test_split(X, y, test_size=0.10, random_state=42)\n",
    "model = LogisticRegression()\n",
    "model.fit(X_train,y_train)\n",
    "result = model.score(X_test,y_test)\n",
    "print(result)\n"
   ]
  },
  {
   "cell_type": "markdown",
   "id": "38415a04",
   "metadata": {},
   "source": [
    "PREDICCIONES"
   ]
  },
  {
   "cell_type": "code",
   "execution_count": null,
   "id": "bd0539f4",
   "metadata": {},
   "outputs": [],
   "source": []
  },
  {
   "cell_type": "code",
   "execution_count": null,
   "id": "29c736dc",
   "metadata": {},
   "outputs": [],
   "source": [
    "new_data= #nuevo df a predecir con variable TARGET NULO.\n",
    "predicciones = model.predict(new_data)\n",
    "new_data['Target'] = predicciones\n",
    "new_data"
   ]
  },
  {
   "cell_type": "markdown",
   "id": "298efbfe",
   "metadata": {},
   "source": [
    "ENTRENAMIENTO DEL MODELO con cross validation"
   ]
  },
  {
   "cell_type": "code",
   "execution_count": 35,
   "id": "57f274d0",
   "metadata": {},
   "outputs": [
    {
     "name": "stdout",
     "output_type": "stream",
     "text": [
      "Puntuación promedio de validación cruzada: 0.9357629302411191\n"
     ]
    }
   ],
   "source": [
    "from sklearn.model_selection import cross_val_score\n",
    "from sklearn.linear_model import LogisticRegression\n",
    "\n",
    "X = df.drop(['diabetes'], axis=1)\n",
    "y = df['diabetes']\n",
    "model = LogisticRegression(max_iter=1000) \n",
    "scores = cross_val_score(model, X, y, cv=3, scoring='accuracy')\n",
    "mean_score = scores.mean()\n",
    "print(\"Puntuación promedio de validación cruzada:\", mean_score)\n"
   ]
  },
  {
   "cell_type": "markdown",
   "id": "73c00693",
   "metadata": {},
   "source": [
    "ENTRENAMIENTO DEL MODELO STANDARIZADO con cross validation"
   ]
  },
  {
   "cell_type": "code",
   "execution_count": 82,
   "id": "45eb209f",
   "metadata": {},
   "outputs": [
    {
     "name": "stdout",
     "output_type": "stream",
     "text": [
      "Puntuación promedio de validación cruzada: 0.9357383517266976\n"
     ]
    }
   ],
   "source": [
    "from sklearn.model_selection import cross_val_score\n",
    "from sklearn.linear_model import LogisticRegression\n",
    "\n",
    "X = df_std.drop(['diabetes'], axis=1)\n",
    "y = df_std['diabetes']\n",
    "model = LogisticRegression(max_iter=1000) \n",
    "scores = cross_val_score(model, X, y, cv=10, scoring='accuracy')\n",
    "mean_score = scores.mean()\n",
    "print(\"Puntuación promedio de validación cruzada:\", mean_score)\n"
   ]
  },
  {
   "cell_type": "markdown",
   "id": "e84d7c80",
   "metadata": {},
   "source": [
    "PREDICCIONES"
   ]
  },
  {
   "cell_type": "code",
   "execution_count": null,
   "id": "1c89c44d",
   "metadata": {},
   "outputs": [],
   "source": [
    "new_data= #nuevo df a predecir con variable TARGET NULO.\n",
    "predicciones = model.predict(new_data)\n",
    "new_data['Target'] = predicciones\n",
    "new_data"
   ]
  },
  {
   "cell_type": "markdown",
   "id": "c6bf9b2a",
   "metadata": {},
   "source": [
    "ENTRENAMIENTO DEL MODELO con Arbol de desicion "
   ]
  },
  {
   "cell_type": "code",
   "execution_count": 32,
   "id": "f6377954",
   "metadata": {},
   "outputs": [
    {
     "name": "stdout",
     "output_type": "stream",
     "text": [
      "Eficacia del modelo: 0.9405484999079698\n"
     ]
    }
   ],
   "source": [
    "from sklearn.tree import DecisionTreeClassifier\n",
    "\n",
    "clf = DecisionTreeClassifier(criterion='gini', max_depth=9, min_samples_split=2, min_samples_leaf=1)\n",
    "clf.fit(X_train, y_train)\n",
    "y_pred = clf.predict(X_test)\n",
    "accuracy = clf.score(X_test, y_test)\n",
    "print(\"Eficacia del modelo:\", accuracy)\n"
   ]
  },
  {
   "cell_type": "markdown",
   "id": "28fa71ac",
   "metadata": {},
   "source": [
    "ENTRENAMIENTO DEL MODELO STANDARIZADO con Arbol de desicion "
   ]
  },
  {
   "cell_type": "code",
   "execution_count": 83,
   "id": "76b784fd",
   "metadata": {},
   "outputs": [
    {
     "name": "stdout",
     "output_type": "stream",
     "text": [
      "Eficacia del modelo: 0.9411042944785276\n"
     ]
    }
   ],
   "source": [
    "from sklearn.tree import DecisionTreeClassifier\n",
    "\n",
    "clf = DecisionTreeClassifier(criterion='gini', max_depth=9, min_samples_split=2, min_samples_leaf=1)\n",
    "clf.fit(X_train, y_train)\n",
    "y_pred = clf.predict(X_test)\n",
    "accuracy = clf.score(X_test, y_test)\n",
    "print(\"Eficacia del modelo:\", accuracy)\n"
   ]
  },
  {
   "cell_type": "markdown",
   "id": "f09b9e15",
   "metadata": {},
   "source": [
    "PREDICCIONES"
   ]
  },
  {
   "cell_type": "code",
   "execution_count": null,
   "id": "c379cc88",
   "metadata": {},
   "outputs": [],
   "source": [
    "new_data= #nuevo df a predecir con variable TARGET NULO.\n",
    "predictions = clf.predict(new_data)\n",
    "new_data['Target'] = predicciones\n",
    "print(predictions)"
   ]
  },
  {
   "cell_type": "code",
   "execution_count": null,
   "id": "11f2835c",
   "metadata": {},
   "outputs": [],
   "source": []
  },
  {
   "cell_type": "code",
   "execution_count": 87,
   "id": "4055b29e",
   "metadata": {},
   "outputs": [
    {
     "name": "stdout",
     "output_type": "stream",
     "text": [
      "Matriz de confusión:\n",
      "[[14464   213]\n",
      " [  823   799]]\n",
      "\n",
      "Reporte de clasificación:\n",
      "              precision    recall  f1-score   support\n",
      "\n",
      "           0       0.95      0.99      0.97     14677\n",
      "           1       0.79      0.49      0.61      1622\n",
      "\n",
      "    accuracy                           0.94     16299\n",
      "   macro avg       0.87      0.74      0.79     16299\n",
      "weighted avg       0.93      0.94      0.93     16299\n",
      "\n"
     ]
    }
   ],
   "source": [
    "from sklearn.model_selection import train_test_split\n",
    "from sklearn.linear_model import LogisticRegression\n",
    "from sklearn.metrics import classification_report, confusion_matrix\n",
    "\n",
    "# Dividir el conjunto de datos en entrenamiento y prueba\n",
    "X_train, X_test, y_train, y_test = train_test_split(X, y, test_size=0.2, random_state=42)\n",
    "\n",
    "# Crear el modelo de regresión logística\n",
    "model = LogisticRegression()\n",
    "\n",
    "# Ajustar el modelo en el conjunto de entrenamiento\n",
    "model.fit(X_train, y_train)\n",
    "\n",
    "# Realizar predicciones en el conjunto de prueba\n",
    "y_pred = model.predict(X_test)\n",
    "\n",
    "# Evaluar el rendimiento del modelo\n",
    "print(\"Matriz de confusión:\")\n",
    "print(confusion_matrix(y_test, y_pred))\n",
    "print()\n",
    "print(\"Reporte de clasificación:\")\n",
    "print(classification_report(y_test, y_pred))\n"
   ]
  },
  {
   "cell_type": "code",
   "execution_count": 103,
   "id": "78d6ec01",
   "metadata": {},
   "outputs": [
    {
     "name": "stdout",
     "output_type": "stream",
     "text": [
      "Matriz de confusión:\n",
      "[[7042  313]\n",
      " [ 289  506]]\n",
      "Informe de clasificación:\n",
      "              precision    recall  f1-score   support\n",
      "\n",
      "           0       0.96      0.96      0.96      7355\n",
      "           1       0.62      0.64      0.63       795\n",
      "\n",
      "    accuracy                           0.93      8150\n",
      "   macro avg       0.79      0.80      0.79      8150\n",
      "weighted avg       0.93      0.93      0.93      8150\n",
      "\n"
     ]
    },
    {
     "name": "stderr",
     "output_type": "stream",
     "text": [
      "C:\\Users\\Rana\\Nueva carpeta\\lib\\site-packages\\sklearn\\linear_model\\_logistic.py:814: ConvergenceWarning: lbfgs failed to converge (status=1):\n",
      "STOP: TOTAL NO. of ITERATIONS REACHED LIMIT.\n",
      "\n",
      "Increase the number of iterations (max_iter) or scale the data as shown in:\n",
      "    https://scikit-learn.org/stable/modules/preprocessing.html\n",
      "Please also refer to the documentation for alternative solver options:\n",
      "    https://scikit-learn.org/stable/modules/linear_model.html#logistic-regression\n",
      "  n_iter_i = _check_optimize_result(\n"
     ]
    }
   ],
   "source": [
    "from sklearn.model_selection import train_test_split\n",
    "from sklearn.linear_model import LogisticRegression\n",
    "from sklearn.metrics import confusion_matrix, classification_report\n",
    "\n",
    "# Dividir los datos en conjuntos de entrenamiento y prueba\n",
    "X = df.drop(['diabetes'], axis=1)\n",
    "y = df['diabetes']\n",
    "X_train, X_test, y_train, y_test = train_test_split(X, y, test_size=0.10, random_state=42)\n",
    "\n",
    "# Crear y ajustar el modelo de regresión logística\n",
    "model = LogisticRegression()\n",
    "model.fit(X_train, y_train)\n",
    "\n",
    "# Obtener las probabilidades de clase\n",
    "y_prob = model.predict_proba(X_test)[:, 1]\n",
    "\n",
    "# Aplicar el nuevo umbral de clasificación\n",
    "threshold = 0.3\n",
    "y_pred = np.where(y_prob >= threshold, 1, 0)\n",
    "\n",
    "# Calcular la matriz de confusión\n",
    "confusion = confusion_matrix(y_test, y_pred)\n",
    "print(\"Matriz de confusión:\")\n",
    "print(confusion)\n",
    "\n",
    "# Imprimir todas las métricas de rendimiento\n",
    "report = classification_report(y_test, y_pred)\n",
    "print(\"Informe de clasificación:\")\n",
    "print(report)\n",
    "\n",
    "\n"
   ]
  },
  {
   "cell_type": "code",
   "execution_count": 106,
   "id": "b0cbf9fd",
   "metadata": {},
   "outputs": [
    {
     "name": "stdout",
     "output_type": "stream",
     "text": [
      "Accuracy: 0.9356770354009448\n",
      "Recall: 0.48535353535353537\n"
     ]
    },
    {
     "ename": "NameError",
     "evalue": "name 'cross_val_predict' is not defined",
     "output_type": "error",
     "traceback": [
      "\u001b[1;31m---------------------------------------------------------------------------\u001b[0m",
      "\u001b[1;31mNameError\u001b[0m                                 Traceback (most recent call last)",
      "\u001b[1;32m~\\AppData\\Local\\Temp\\ipykernel_7416\\924096027.py\u001b[0m in \u001b[0;36m<module>\u001b[1;34m\u001b[0m\n\u001b[0;32m     21\u001b[0m \u001b[1;33m\u001b[0m\u001b[0m\n\u001b[0;32m     22\u001b[0m \u001b[1;31m# Realizar la predicción con validación cruzada\u001b[0m\u001b[1;33m\u001b[0m\u001b[1;33m\u001b[0m\u001b[0m\n\u001b[1;32m---> 23\u001b[1;33m \u001b[0my_pred\u001b[0m \u001b[1;33m=\u001b[0m \u001b[0mcross_val_predict\u001b[0m\u001b[1;33m(\u001b[0m\u001b[0mmodel\u001b[0m\u001b[1;33m,\u001b[0m \u001b[0mX\u001b[0m\u001b[1;33m,\u001b[0m \u001b[0my\u001b[0m\u001b[1;33m,\u001b[0m \u001b[0mcv\u001b[0m\u001b[1;33m=\u001b[0m\u001b[1;36m5\u001b[0m\u001b[1;33m)\u001b[0m\u001b[1;33m\u001b[0m\u001b[1;33m\u001b[0m\u001b[0m\n\u001b[0m\u001b[0;32m     24\u001b[0m \u001b[1;33m\u001b[0m\u001b[0m\n\u001b[0;32m     25\u001b[0m \u001b[1;31m# Calcular la matriz de confusión\u001b[0m\u001b[1;33m\u001b[0m\u001b[1;33m\u001b[0m\u001b[0m\n",
      "\u001b[1;31mNameError\u001b[0m: name 'cross_val_predict' is not defined"
     ]
    }
   ],
   "source": [
    "from sklearn.model_selection import cross_validate\n",
    "from sklearn.linear_model import LogisticRegression\n",
    "from sklearn.metrics import confusion_matrix, classification_report\n",
    "\n",
    "# Dividir los datos en características (X) y variable objetivo (y)\n",
    "X = df.drop(['diabetes'], axis=1)\n",
    "y = df['diabetes']\n",
    "\n",
    "# Crear el modelo de regresión logística\n",
    "model = LogisticRegression(max_iter=1000)\n",
    "\n",
    "# Realizar la validación cruzada\n",
    "scoring = ['accuracy', 'recall']\n",
    "cv_results = cross_validate(model, X, y, cv=5, scoring=scoring)\n",
    "\n",
    "# Obtener los resultados de precisión y recall promedio\n",
    "accuracy = np.mean(cv_results['test_accuracy'])\n",
    "recall = np.mean(cv_results['test_recall'])\n",
    "print(\"Accuracy:\", accuracy)\n",
    "print(\"Recall:\", recall)\n",
    "\n",
    "# Realizar la predicción con validación cruzada\n",
    "y_pred = cross_val_predict(model, X, y, cv=5)\n",
    "\n",
    "# Calcular la matriz de confusión\n",
    "confusion = confusion_matrix(y, y_pred)\n",
    "print(\"Matriz de confusión:\")\n",
    "print(confusion)\n",
    "\n",
    "# Generar el reporte de clasificación\n",
    "report = classification_report(y, y_pred)\n",
    "print(\"Reporte de clasificación:\")\n",
    "print(report)\n",
    "\n"
   ]
  },
  {
   "cell_type": "code",
   "execution_count": null,
   "id": "0f84bfdf",
   "metadata": {},
   "outputs": [],
   "source": []
  }
 ],
 "metadata": {
  "kernelspec": {
   "display_name": "Python 3 (ipykernel)",
   "language": "python",
   "name": "python3"
  },
  "language_info": {
   "codemirror_mode": {
    "name": "ipython",
    "version": 3
   },
   "file_extension": ".py",
   "mimetype": "text/x-python",
   "name": "python",
   "nbconvert_exporter": "python",
   "pygments_lexer": "ipython3",
   "version": "3.9.13"
  }
 },
 "nbformat": 4,
 "nbformat_minor": 5
}
